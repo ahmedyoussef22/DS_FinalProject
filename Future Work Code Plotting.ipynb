{
 "cells": [
  {
   "cell_type": "code",
   "execution_count": 1,
   "metadata": {},
   "outputs": [],
   "source": [
    "# this cell of bloc of code was used for the final classification prediction model\n",
    "# import numpy, pandas, and plotting\n",
    "import numpy as np\n",
    "import pandas as pd\n",
    "import matplotlib.pyplot as plt\n",
    "# read the data\n",
    "studentData = pd.read_csv('StudentData.csv',encoding = 'ISO-8859-1')\n",
    "ratesData = pd.read_csv('pertusisRates2010_2015.csv',encoding = 'ISO-8859-1')\n",
    "# observing student data we need to drop data on nMMR and nPolio since we are interested only in Pertussis outbreaks\n",
    "# also, we need to drop data on 2015 year as well as years 2000-2009 since we are only interested in 2010-2014 years\n",
    "# lastly, we need to sort the data's rows according to years and county from lowest to highest\n",
    "studentData = studentData.drop(['schoolType','SCHOOL','school_code','nMMR', 'nPolio', 'nPBE', 'nPME'], axis=1)\n",
    "for i in range(2000,2010):\n",
    "    studentData = studentData[studentData.year != i]\n",
    "studentData = studentData[studentData.year != 2015]\n",
    "# sort the student data frame according to county and year\n",
    "studentData = studentData.sort_values(by=['COUNTY', 'year'])\n",
    "# on rates data we will drop first row as it contains cases for entire California\n",
    "ratesData = ratesData.iloc[1:]\n",
    "# now we calculate the unvaccinated number of students for all counties\n",
    "studentData['not_vaccinated'] = studentData['n'] - studentData['nDTP']\n",
    "# next we create the new data frame that represents the student data for years 2010 to 2014\n",
    "cols = ['county','students','vaccinated','not_vaccinated','year','cases']\n",
    "df = pd.DataFrame( columns = cols)\n",
    "yrs = [2010,2011,2012,2013,2014]\n",
    "for x in yrs:\n",
    "    new_df = studentData[studentData['year']==x]\n",
    "    for i in sorted(set(new_df['COUNTY'].tolist())):\n",
    "        new_df2 = new_df[new_df['COUNTY']==i]\n",
    "        df = df.append({'county' : i , \n",
    "                        'students' : new_df2['n'].sum() ,\n",
    "                        'vaccinated' : new_df2['nDTP'].sum() ,\n",
    "                        'not_vaccinated' : new_df2['not_vaccinated'].sum() ,\n",
    "                        'year' : x\n",
    "                       } ,ignore_index=True)\n",
    "# sort the data frame according to county and year\n",
    "df = df.sort_values(by=['county', 'year'])\n",
    "# to account for missing ALPINE county for 2014 year, we add values of zero for the year 2014\n",
    "df = df.append({'county' : 'ALPINE' , 'students' : 0, 'vaccinated' : 0, 'not_vaccinated' : 0, 'year' : 2014, 'cases' : 0 } , ignore_index=True)\n",
    "df = df.sort_values(by=['county', 'year'])\n",
    "# now we calculate the vaccinated and unvaccinated data for the year 2014\n",
    "vaccinated_2014 = []\n",
    "not_vaccinated_2014 = []\n",
    "for i in range(len(df['year'])):\n",
    "    if df['year'].tolist()[i] == 2014:\n",
    "        vaccinated_2014.append(df['vaccinated'].tolist()[i])\n",
    "        not_vaccinated_2014.append(df['not_vaccinated'].tolist()[i])     \n",
    "# now we drop data for 2014 as we do not need it from here\n",
    "df = df[df.year != 2014]\n",
    "# we drop the rates data of the years 2010 to 2014 and drop the cases, and store it to a new dataframe\n",
    "rates_new = ratesData.drop(['Rate2010','Rate2011','Rate2012', 'Rate2013','Rate2014','Cases2014'], axis=1)\n",
    "# get the transpose, used for the average calculation in the loop\n",
    "conv = rates_new.T\n",
    "l = []\n",
    "for i in conv:\n",
    "    for w in range(1,len(conv[i].tolist())):\n",
    "        l.append(conv[i].tolist()[w])\n",
    "# set the dataframe's cases column to the list containing cases per year for each county    \n",
    "df['cases'] = l\n",
    "# define variables used in the averages calculations\n",
    "a = 0\n",
    "b = 0\n",
    "c = 0\n",
    "d = 0\n",
    "e = 0\n",
    "f = 0\n",
    "g = 0\n",
    "h = 0\n",
    "u = 0\n",
    "t = 0\n",
    "y = 0\n",
    "o = 0\n",
    "res1 = 0\n",
    "res2 = 0\n",
    "res3 = 0\n",
    "counties = []\n",
    "avg_cases = []\n",
    "avg_vacc = []\n",
    "avg_notVacc = []\n",
    "# loop through and calculate the averages over the 2010 to 2013 years\n",
    "for i in range(0, len(df['cases']), 4):\n",
    "    counties.append(df['county'].tolist()[i])\n",
    "    # vaccinated data \n",
    "    a = df['vaccinated'].tolist()[i]\n",
    "    b = df['vaccinated'].tolist()[i+1]\n",
    "    c = df['vaccinated'].tolist()[i+2]\n",
    "    d = df['vaccinated'].tolist()[i+3]\n",
    "    # unvaccinated data\n",
    "    e = df['not_vaccinated'].tolist()[i]\n",
    "    f = df['not_vaccinated'].tolist()[i+1]\n",
    "    g = df['not_vaccinated'].tolist()[i+2]\n",
    "    h = df['not_vaccinated'].tolist()[i+3]\n",
    "    # cases data\n",
    "    u = df['cases'].tolist()[i]\n",
    "    t = df['cases'].tolist()[i+1]\n",
    "    y = df['cases'].tolist()[i+2]\n",
    "    o = df['cases'].tolist()[i+3]\n",
    "    # averages calculation\n",
    "    res1 = round((a+b+c+d)/4)\n",
    "    res2 = round((e+f+g+h)/4)\n",
    "    res3 = round((u+t+y+o)/4)\n",
    "    # append results to the lists\n",
    "    avg_vacc.append(res1)  \n",
    "    avg_notVacc.append(res2)\n",
    "    avg_cases.append(res3)"
   ]
  },
  {
   "cell_type": "code",
   "execution_count": 2,
   "metadata": {},
   "outputs": [],
   "source": [
    "# operating on the previous block of code, we will calculate the ratios of vaccinated vs unvaccinated\n",
    "ratio = []\n",
    "for i in range(len(avg_vacc)):\n",
    "    ratio.append(avg_cases[i] / avg_notVacc[i] )"
   ]
  },
  {
   "cell_type": "code",
   "execution_count": 3,
   "metadata": {},
   "outputs": [
    {
     "data": {
      "text/plain": [
       "Text(0,0.5,'Average Cases')"
      ]
     },
     "execution_count": 3,
     "metadata": {},
     "output_type": "execute_result"
    },
    {
     "data": {
      "image/png": "[encoded data removed]",
      "text/plain": [
       "<Figure size 432x288 with 1 Axes>"
      ]
     },
     "metadata": {},
     "output_type": "display_data"
    }
   ],
   "source": [
    "# plot the results, observing the data it follows a non-linear model with few outliers\n",
    "import matplotlib.pyplot\n",
    "import pylab\n",
    "matplotlib.pyplot.scatter(ratio,avg_cases)\n",
    "plt.title('Data for all Counties')\n",
    "plt.xlabel('Vaccinated over Unvaccinated Average Ratio')\n",
    "plt.ylabel('Average Cases')"
   ]
  },
  {
   "cell_type": "code",
   "execution_count": null,
   "metadata": {},
   "outputs": [],
   "source": []
  }
 ],
 "metadata": {
  "kernelspec": {
   "display_name": "Python 3",
   "language": "python",
   "name": "python3"
  },
  "language_info": {
   "codemirror_mode": {
    "name": "ipython",
    "version": 3
   },
   "file_extension": ".py",
   "mimetype": "text/x-python",
   "name": "python",
   "nbconvert_exporter": "python",
   "pygments_lexer": "ipython3",
   "version": "3.6.5"
  }
 },
 "nbformat": 4,
 "nbformat_minor": 2
}
