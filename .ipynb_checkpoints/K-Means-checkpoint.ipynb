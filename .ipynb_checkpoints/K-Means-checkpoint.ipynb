{
 "cells": [
  {
   "cell_type": "markdown",
   "metadata": {},
   "source": [
    "K-means classification is very useful for condensing a wide spread of continuous data into a few distict categories. K-means itself identifies the nature and cohesiveness of said categories. \n",
    "\n",
    "Try to sort location coordinates into regions.\n",
    "Try to sort patients by commonalities."
   ]
  },
  {
   "cell_type": "code",
   "execution_count": 1,
   "metadata": {},
   "outputs": [],
   "source": [
    "import  numpy as np\n",
    "import pandas as pd\n",
    "from sklearn.cluster import KMeans\n",
    "from sklearn.metrics.pairwise import pairwise_distances_argmin\n",
    "from sklearn.metrics import silhouette_samples, silhouette_score\n",
    "\n",
    "import matplotlib.pyplot as plt\n",
    "from sklearn.metrics.pairwise import pairwise_distances_argmin"
   ]
  },
  {
   "cell_type": "markdown",
   "metadata": {},
   "source": [
    "First, I run K-Means clustering on the geoData coordinate dataset. This allows us to collapse a wide range of locations into a handful of different categories.\n",
    "\n",
    "The closer the silhouette score is to 1, the better the clusters."
   ]
  },
  {
   "cell_type": "code",
   "execution_count": 2,
   "metadata": {},
   "outputs": [
    {
     "name": "stdout",
     "output_type": "stream",
     "text": [
      "For 3 clusters the silhouette score is: 0.908\n"
     ]
    },
    {
     "data": {
      "image/png": "[encoded data removed]",
      "text/plain": [
       "<Figure size 432x288 with 1 Axes>"
      ]
     },
     "metadata": {
      "needs_background": "light"
     },
     "output_type": "display_data"
    }
   ],
   "source": [
    "geo = pd.read_csv(\"geoData.csv\")\n",
    "\n",
    "# will classify only by latitude and longitude data, so drop the others\n",
    "geo.drop(['school_code', 'countyMatch', 'isSchool'],inplace=True,axis=1) \n",
    "\n",
    "# convert geo dataframe to np array so it plays nice with scikit\n",
    "dat_data = geo.values\n",
    "n_clusters = 3\n",
    "\n",
    "km = KMeans(n_clusters) \n",
    "result = km.fit_predict(dat_data)\n",
    "\n",
    "centroids = km.cluster_centers_ #get the center points of each cluster\n",
    "dat_label = pairwise_distances_argmin(dat_data, centroids)\n",
    "colors = ['b', 'c', 'r'] #colors for our three clusters\n",
    "\n",
    "silhouette_avg = silhouette_score(dat_data, result)\n",
    "print(\"For\", n_clusters, \"clusters the silhouette score is: {:0.3f}\".format(silhouette_avg))\n",
    "\n",
    "for k, col in zip(range(n_clusters), colors):\n",
    "    mems = dat_label == k\n",
    "    cent = centroids[k]\n",
    "    plt.plot(dat_data[mems, 0], dat_data[mems,1], 'w', markerfacecolor=col, marker='.')\n",
    "    plt.plot(cent[0], cent[1], 'o', markerfacecolor=col, markersize=6)\n",
    "\n",
    "plt.show()"
   ]
  },
  {
   "cell_type": "markdown",
   "metadata": {},
   "source": [
    "I picked 3 on a whim, but a silhouette score of 0.908 is pretty darn good. The graph shows us two distinct clusters (red and blue), with a smattering of outliers being grouped into green.\n",
    "\n",
    "Closer analysis of these outliers, to determine if they should be disgarded or merely considered separately, is advised.\n",
    "\n",
    "We drop all datapoints with extreme longitudinal outliers (longitude > -10) and try again."
   ]
  },
  {
   "cell_type": "code",
   "execution_count": 3,
   "metadata": {},
   "outputs": [
    {
     "name": "stdout",
     "output_type": "stream",
     "text": [
      "For 2 clusters the silhouette score is: 0.907\n"
     ]
    },
    {
     "data": {
      "image/png": "[encoded data removed]",
      "text/plain": [
       "<Figure size 432x288 with 1 Axes>"
      ]
     },
     "metadata": {
      "needs_background": "light"
     },
     "output_type": "display_data"
    }
   ],
   "source": [
    "trimGeo = geo.drop(geo[geo['longitude'] > -10].index)\n",
    "\n",
    "# convert geo dataframe to np array so it plays nice with scikit\n",
    "dat_data = trimGeo.values\n",
    "n_clusters = 2\n",
    "\n",
    "km = KMeans(n_clusters) \n",
    "result = km.fit_predict(dat_data)\n",
    "\n",
    "centroids = km.cluster_centers_ #get the center points of each cluster\n",
    "dat_label = pairwise_distances_argmin(dat_data, centroids)\n",
    "colors = ['b', 'c', 'r', 'm'] #colors for our clusters\n",
    "\n",
    "silhouette_avg = silhouette_score(dat_data, result)\n",
    "print(\"For\", n_clusters, \"clusters the silhouette score is: {:0.3f}\".format(silhouette_avg))\n",
    "\n",
    "for k, col in zip(range(n_clusters), colors):\n",
    "    mems = dat_label == k\n",
    "    cent = centroids[k]\n",
    "    plt.plot(dat_data[mems, 0], dat_data[mems,1], 'w', markerfacecolor=col, marker='.')\n",
    "    plt.plot(cent[0], cent[1], 'o', markerfacecolor=col, markersize=6)\n",
    "\n",
    "plt.show()"
   ]
  },
  {
   "cell_type": "markdown",
   "metadata": {},
   "source": [
    "Now we are reduced to two distinct clusters with a slightly higher silhouette now that the outliers are gone. Seeing as this data is graphed by longitude vs latitude, it may be worth identifying where these points fall on an actual map and determining the different regional traits of each cluster (eg county? neighborhood?)."
   ]
  },
  {
   "cell_type": "markdown",
   "metadata": {},
   "source": [
    "The next form of K-means analysis will be done on the StudentData.\n",
    "\n",
    "StudentData Features:\n",
    "- n - number of students\n",
    "- nMMR - number of students reporting MMR vaccination\n",
    "- nDTP - ''' DTP vaccine\n",
    "- nPolio - ''' polio vaccine\n",
    "- nPBE - number of students citing personal beliefs exemption from vaccines\n",
    "- nPME - ''' medical exemption from vaccines\n",
    "- COUNTY - county where row data was recorded\n",
    "- SCHOOL - school '''\n",
    "- School Type - public or private institution\n",
    "- year - year of polling\n",
    "\n",
    "PertusisCases Features - \n",
    "- number of cases and incident rates of pertussis per year\n",
    "- county of each statistic"
   ]
  },
  {
   "cell_type": "markdown",
   "metadata": {},
   "source": [
    "The only common features connecting vaccination circumstance to actual pertussis outbreaks are the county and year in which each form of data was recorded.\n",
    "\n",
    "One comparison will be done to determine the likelihood of vaccination vs exemption per county. Another will determine those results compared to the actual rate of outbreak.\n",
    "\n",
    "We must sort the counties by the likelihood of their children having recieved vaccines. We may use K-means clustering \n",
    "Perhaps percentage analysis would be more effective. \n",
    "\n",
    "What can K-means do? K-means turns continuous into categorical.\n",
    "\n",
    "StudentData numeric variables - counts of vaccinations, exemptions.\n",
    "\n",
    "Pertusis numericals - rates and incidents. No. of rates and no. of incidents obviously correlated. Year is also numerical. Can determine which years were the worst.\n",
    "\n",
    "Let's do things and see how they work out.\n",
    "\n",
    "Want to predict which counties are at high risk for a given year, given historical trends and that year's immunization rates."
   ]
  },
  {
   "cell_type": "code",
   "execution_count": 4,
   "metadata": {},
   "outputs": [
    {
     "name": "stdout",
     "output_type": "stream",
     "text": [
      "For 3 clusters the silhouette score is: 0.560\n"
     ]
    },
    {
     "data": {
      "image/png": "[encoded data removed]",
      "text/plain": [
       "<Figure size 432x288 with 1 Axes>"
      ]
     },
     "metadata": {
      "needs_background": "light"
     },
     "output_type": "display_data"
    }
   ],
   "source": [
    "student = pd.read_csv(\"StudentData.csv\", encoding = 'latin1')\n",
    "#student.columns\n",
    "student.drop(['schoolType', 'COUNTY', 'SCHOOL', 'school_code'],inplace=True,axis=1) \n",
    "\n",
    "# convert geo dataframe to np array so it plays nice with scikit\n",
    "dat_data = student.values\n",
    "n_clusters = 3\n",
    "\n",
    "km = KMeans(n_clusters) \n",
    "result = km.fit_predict(dat_data)\n",
    "\n",
    "centroids = km.cluster_centers_ #get the center points of each cluster\n",
    "dat_label = pairwise_distances_argmin(dat_data, centroids)\n",
    "colors = ['b', 'c', 'r'] #colors for our three clusters\n",
    "\n",
    "silhouette_avg = silhouette_score(dat_data, result)\n",
    "print(\"For\", n_clusters, \"clusters the silhouette score is: {:0.3f}\".format(silhouette_avg))\n",
    "\n",
    "for k, col in zip(range(n_clusters), colors):\n",
    "    mems = dat_label == k\n",
    "    cent = centroids[k]\n",
    "    plt.plot(dat_data[mems, 0], dat_data[mems,1], 'w', markerfacecolor=col, marker='.')\n",
    "    plt.plot(cent[0], cent[1], 'o', markerfacecolor=col, markersize=6)\n",
    "\n",
    "plt.show()"
   ]
  },
  {
   "cell_type": "code",
   "execution_count": null,
   "metadata": {},
   "outputs": [],
   "source": []
  }
 ],
 "metadata": {
  "kernelspec": {
   "display_name": "Python 3",
   "language": "python",
   "name": "python3"
  },
  "language_info": {
   "codemirror_mode": {
    "name": "ipython",
    "version": 3
   },
   "file_extension": ".py",
   "mimetype": "text/x-python",
   "name": "python",
   "nbconvert_exporter": "python",
   "pygments_lexer": "ipython3",
   "version": "3.7.1"
  }
 },
 "nbformat": 4,
 "nbformat_minor": 2
}
