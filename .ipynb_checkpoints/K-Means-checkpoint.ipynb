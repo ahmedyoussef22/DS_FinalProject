{
 "cells": [
  {
   "cell_type": "code",
   "execution_count": null,
   "metadata": {},
   "outputs": [],
   "source": []
  },
  {
   "cell_type": "code",
   "execution_count": 1,
   "metadata": {},
   "outputs": [],
   "source": [
    "import  numpy as np\n",
    "import pandas as pd\n",
    "from sklearn.cluster import KMeans\n",
    "from sklearn.metrics.pairwise import pairwise_distances_argmin\n",
    "from sklearn.metrics import silhouette_samples, silhouette_score\n",
    "\n",
    "import matplotlib.pyplot as plt\n",
    "from sklearn.metrics.pairwise import pairwise_distances_argmin"
   ]
  },
  {
   "cell_type": "markdown",
   "metadata": {},
   "source": [
    "First, I run K-Means clustering on the geoData coordinate dataset. This enables us to collapse a wide range of locations into a handful of different categories.\n",
    "\n",
    "The closer the silhouette score is to 1, the better the clusters."
   ]
  },
  {
   "cell_type": "code",
   "execution_count": 19,
   "metadata": {},
   "outputs": [
    {
     "name": "stdout",
     "output_type": "stream",
     "text": [
      "For 3 clusters the silhouette score is: 0.908\n"
     ]
    },
    {
     "data": {
      "image/png": "[encoded data removed]",
      "text/plain": [
       "<Figure size 432x288 with 1 Axes>"
      ]
     },
     "metadata": {
      "needs_background": "light"
     },
     "output_type": "display_data"
    }
   ],
   "source": [
    "geo = pd.read_csv(\"geoData.csv\")\n",
    "\n",
    "# will classify only by latitude and longitude data, so drop the others\n",
    "geo.drop(['school_code', 'countyMatch', 'isSchool'],inplace=True,axis=1) \n",
    "\n",
    "# convert geo dataframe to np array so it plays nice with scikit\n",
    "dat_data = geo.values\n",
    "n_clusters = 3\n",
    "\n",
    "km = KMeans(n_clusters) \n",
    "result = km.fit_predict(dat_data)\n",
    "\n",
    "centroids = km.cluster_centers_ #get the center points of each cluster\n",
    "dat_label = pairwise_distances_argmin(dat_data, centroids)\n",
    "colors = ['b', 'c', 'r'] #colors for our three clusters\n",
    "\n",
    "silhouette_avg = silhouette_score(dat_data, result)\n",
    "print(\"For\", n_clusters, \"clusters the silhouette score is: {:0.3f}\".format(silhouette_avg))\n",
    "\n",
    "for k, col in zip(range(n_clusters), colors):\n",
    "    mems = dat_label == k\n",
    "    cent = centroids[k]\n",
    "    plt.plot(dat_data[mems, 0], dat_data[mems,1], 'w', markerfacecolor=col, marker='.')\n",
    "    plt.plot(cent[0], cent[1], 'o', markerfacecolor=col, markersize=6)\n",
    "\n",
    "plt.show()"
   ]
  },
  {
   "cell_type": "markdown",
   "metadata": {},
   "source": [
    "I picked 3 on a whim, but a silhouette score of 0.908 is pretty darn good. The graph shows us two distinct clusters (red and blue), with a smattering of outliers being grouped into green.\n",
    "\n",
    "Closer analysis of these outliers, to determine if they should be disgarded or merely considered separately, is advised.\n",
    "\n",
    "We drop all datapoints with extreme longitudinal outliers (longitude > -10) and try again."
   ]
  },
  {
   "cell_type": "code",
   "execution_count": 30,
   "metadata": {},
   "outputs": [
    {
     "name": "stdout",
     "output_type": "stream",
     "text": [
      "For 2 clusters the silhouette score is: 0.907\n"
     ]
    },
    {
     "data": {
      "image/png": "[encoded data removed]",
      "text/plain": [
       "<Figure size 432x288 with 1 Axes>"
      ]
     },
     "metadata": {
      "needs_background": "light"
     },
     "output_type": "display_data"
    }
   ],
   "source": [
    "trimGeo = geo.drop(geo[geo['longitude'] > -10].index)\n",
    "\n",
    "# convert geo dataframe to np array so it plays nice with scikit\n",
    "dat_data = trimGeo.values\n",
    "n_clusters = 2\n",
    "\n",
    "km = KMeans(n_clusters) \n",
    "result = km.fit_predict(dat_data)\n",
    "\n",
    "centroids = km.cluster_centers_ #get the center points of each cluster\n",
    "dat_label = pairwise_distances_argmin(dat_data, centroids)\n",
    "colors = ['b', 'c', 'r', 'm'] #colors for our clusters\n",
    "\n",
    "silhouette_avg = silhouette_score(dat_data, result)\n",
    "print(\"For\", n_clusters, \"clusters the silhouette score is: {:0.3f}\".format(silhouette_avg))\n",
    "\n",
    "for k, col in zip(range(n_clusters), colors):\n",
    "    mems = dat_label == k\n",
    "    cent = centroids[k]\n",
    "    plt.plot(dat_data[mems, 0], dat_data[mems,1], 'w', markerfacecolor=col, marker='.')\n",
    "    plt.plot(cent[0], cent[1], 'o', markerfacecolor=col, markersize=6)\n",
    "\n",
    "plt.show()"
   ]
  },
  {
   "cell_type": "code",
   "execution_count": null,
   "metadata": {},
   "outputs": [],
   "source": []
  }
 ],
 "metadata": {
  "kernelspec": {
   "display_name": "Python 3",
   "language": "python",
   "name": "python3"
  },
  "language_info": {
   "codemirror_mode": {
    "name": "ipython",
    "version": 3
   },
   "file_extension": ".py",
   "mimetype": "text/x-python",
   "name": "python",
   "nbconvert_exporter": "python",
   "pygments_lexer": "ipython3",
   "version": "3.7.1"
  }
 },
 "nbformat": 4,
 "nbformat_minor": 2
}
